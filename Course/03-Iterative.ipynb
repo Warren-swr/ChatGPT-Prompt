{
 "cells": [
  {
   "attachments": {},
   "cell_type": "markdown",
   "metadata": {},
   "source": [
    "## Iterative Prompt Develelopment\n",
    "In this lesson, you'll iteratively analyze and refine (改进，改善) your prompts to generate marketing copy from a product fact (状况) sheet."
   ]
  },
  {
   "cell_type": "code",
   "execution_count": 1,
   "metadata": {},
   "outputs": [],
   "source": [
    "import openai\n",
    "\n",
    "with open('API_KEY', 'r') as file:\n",
    "    api_key = file.read().strip()\n",
    "\n",
    "openai.api_key = api_key"
   ]
  },
  {
   "cell_type": "code",
   "execution_count": null,
   "metadata": {},
   "outputs": [],
   "source": [
    "def get_completion(prompt, model=\"gpt-3.5-turbo\"):\n",
    "    messages = [{\"role\": \"user\", \"content\": prompt}]\n",
    "    response = openai.ChatCompletion.create(\n",
    "        model=model,\n",
    "        messages=messages,\n",
    "        temperature=0, # this is the degree of randomness of the model's output\n",
    "    )\n",
    "    return response.choices[0].message[\"content\"]"
   ]
  },
  {
   "attachments": {},
   "cell_type": "markdown",
   "metadata": {},
   "source": [
    "### Generate a marketing product description from a product fact sheet"
   ]
  },
  {
   "cell_type": "code",
   "execution_count": null,
   "metadata": {},
   "outputs": [],
   "source": [
    "fact_sheet_chair = \"\"\"\n",
    "OVERVIEW\n",
    "- Part of a beautiful family of mid-century inspired office furniture, \n",
    "including filing cabinets, desks, bookcases, meeting tables, and more.\n",
    "- Several options of shell color and base finishes.\n",
    "- Available with plastic back and front upholstery (SWC-100) \n",
    "or full upholstery (SWC-110) in 10 fabric and 6 leather options.\n",
    "- Base finish options are: stainless steel, matte black, \n",
    "gloss white, or chrome.\n",
    "- Chair is available with or without armrests.\n",
    "- Suitable for home or business settings.\n",
    "- Qualified for contract use.\n",
    "\n",
    "CONSTRUCTION\n",
    "- 5-wheel plastic coated aluminum base.\n",
    "- Pneumatic chair adjust for easy raise/lower action.\n",
    "\n",
    "DIMENSIONS\n",
    "- WIDTH 53 CM | 20.87”\n",
    "- DEPTH 51 CM | 20.08”\n",
    "- HEIGHT 80 CM | 31.50”\n",
    "- SEAT HEIGHT 44 CM | 17.32”\n",
    "- SEAT DEPTH 41 CM | 16.14”\n",
    "\n",
    "OPTIONS\n",
    "- Soft or hard-floor caster options.\n",
    "- Two choices of seat foam densities: \n",
    " medium (1.8 lb/ft3) or high (2.8 lb/ft3)\n",
    "- Armless or 8 position PU armrests \n",
    "\n",
    "MATERIALS\n",
    "SHELL BASE GLIDER\n",
    "- Cast Aluminum with modified nylon PA6/PA66 coating.\n",
    "- Shell thickness: 10 mm.\n",
    "SEAT\n",
    "- HD36 foam\n",
    "\n",
    "COUNTRY OF ORIGIN\n",
    "- Italy\n",
    "\"\"\""
   ]
  },
  {
   "attachments": {},
   "cell_type": "markdown",
   "metadata": {},
   "source": [
    "这段内容的中文翻译：\n",
    "\n",
    "概览：\n",
    "- 属于一个美丽的中世纪灵感办公家具系列，包括文件柜、办公桌、书柜、会议桌等。\n",
    "- 多种外壳颜色和底座饰面可选。\n",
    "- 可选塑料背部和正面布料（SWC-100），或全包布料（SWC-110），有10种布料和6种皮革可选。\n",
    "- 底座饰面可选不锈钢、哑光黑色、光泽白色或铬。\n",
    "- 椅子可选择有或无扶手。\n",
    "- 适用于家庭或商业环境。\n",
    "- 符合合同使用资格。\n",
    "\n",
    "结构：\n",
    "- 5个轮子的塑料涂层铝底座。\n",
    "- 气动椅子调节，便于升降操作。\n",
    "\n",
    "尺寸：\n",
    "- 宽度53厘米 | 20.87英寸\n",
    "- 深度51厘米 | 20.08英寸\n",
    "- 高度80厘米 | 31.50英寸\n",
    "- 座高44厘米 | 17.32英寸\n",
    "- 座深41厘米 | 16.14英寸\n",
    "\n",
    "选项：\n",
    "- 软质地板或硬质地板脚轮选项。\n",
    "- 座位泡沫密度有两种选择：\n",
    "  中等（1.8磅/立方英尺）或高密度（2.8磅/立方英尺）\n",
    "- 无扶手或8个位置PU扶手\n",
    "\n",
    "材料：\n",
    "外壳底座滑轮\n",
    "- 铸铝，经改性尼龙PA6/PA66涂层。\n",
    "- 外壳厚度：10毫米。\n",
    "座位\n",
    "- HD36泡沫\n",
    "\n",
    "原产地：\n",
    "- 意大利"
   ]
  },
  {
   "cell_type": "markdown",
   "metadata": {},
   "source": []
  }
 ],
 "metadata": {
  "kernelspec": {
   "display_name": "base",
   "language": "python",
   "name": "python3"
  },
  "language_info": {
   "codemirror_mode": {
    "name": "ipython",
    "version": 3
   },
   "file_extension": ".py",
   "mimetype": "text/x-python",
   "name": "python",
   "nbconvert_exporter": "python",
   "pygments_lexer": "ipython3",
   "version": "3.9.13"
  },
  "orig_nbformat": 4
 },
 "nbformat": 4,
 "nbformat_minor": 2
}
